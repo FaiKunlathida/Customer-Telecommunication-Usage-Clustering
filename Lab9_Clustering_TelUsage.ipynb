{
  "nbformat": 4,
  "nbformat_minor": 0,
  "metadata": {
    "colab": {
      "private_outputs": true,
      "provenance": []
    },
    "kernelspec": {
      "name": "python3",
      "display_name": "Python 3"
    },
    "language_info": {
      "name": "python"
    }
  },
  "cells": [
    {
      "cell_type": "markdown",
      "metadata": {
        "id": "HJYqwpfGgyIe"
      },
      "source": [
        "Partition Clustering"
      ]
    },
    {
      "cell_type": "markdown",
      "metadata": {
        "id": "r--RSTI_3hrM"
      },
      "source": [
        "K-Mean Clutering"
      ]
    },
    {
      "cell_type": "code",
      "metadata": {
        "id": "aOKbBs-weK3G"
      },
      "source": [
        "import pandas as pd\n",
        "import numpy as np\n",
        "import matplotlib.pyplot as plt\n",
        "import seaborn as sns"
      ],
      "execution_count": null,
      "outputs": []
    },
    {
      "cell_type": "code",
      "metadata": {
        "id": "0BjSYO4wgxbc"
      },
      "source": [
        "df=pd.read_csv('/content/cust_telusage.csv')\n",
        "df.head(10)"
      ],
      "execution_count": null,
      "outputs": []
    },
    {
      "cell_type": "code",
      "source": [
        "from sklearn.preprocessing import LabelEncoder\n",
        "# creating instance of labelencoder\n",
        "labelencoder = LabelEncoder()\n",
        "df['Gender'] = labelencoder.fit_transform(df['Gender'])"
      ],
      "metadata": {
        "id": "TDZ5iIzZZUdc"
      },
      "execution_count": null,
      "outputs": []
    },
    {
      "cell_type": "code",
      "metadata": {
        "id": "cEN_Vj53hevR"
      },
      "source": [
        "from sklearn.cluster import KMeans\n",
        "clustering_model = KMeans(n_clusters=3)\n",
        "clustering_model"
      ],
      "execution_count": null,
      "outputs": []
    },
    {
      "cell_type": "code",
      "metadata": {
        "id": "k_ABkl22iP-c"
      },
      "source": [
        "output_cluster = clustering_model.fit_predict(df)"
      ],
      "execution_count": null,
      "outputs": []
    },
    {
      "cell_type": "code",
      "metadata": {
        "id": "bBBHQbp8bWZ9"
      },
      "source": [
        "import matplotlib.pyplot as plt\n",
        "# k means determine k\n",
        "distortions = []\n",
        "K = range(1,10)\n",
        "for k in K:\n",
        "    clustering_model = KMeans(n_clusters=k)\n",
        "    clustering_model.fit(df)\n",
        "    distortions.append(clustering_model.inertia_)\n",
        "# Plot the elbow\n",
        "plt.plot(K, distortions, 'bx-')\n",
        "plt.xlabel('k')\n",
        "plt.ylabel('Distortion')\n",
        "plt.title('The Elbow Method showing the optimal k')\n",
        "plt.show()"
      ],
      "execution_count": null,
      "outputs": []
    },
    {
      "cell_type": "code",
      "metadata": {
        "id": "70Fw2OpOi9vD"
      },
      "source": [
        "df['cluster'] = output_cluster\n",
        "df"
      ],
      "execution_count": null,
      "outputs": []
    },
    {
      "cell_type": "code",
      "source": [
        "import plotly.express as px\n",
        "fig = px.scatter_matrix(df, dimensions=[\"Age\",\"Gender\", \"SMS\", \"Phone\"], color=\"cluster\")\n",
        "fig.show()"
      ],
      "metadata": {
        "id": "LY-wpZTFJZNJ"
      },
      "execution_count": null,
      "outputs": []
    },
    {
      "cell_type": "code",
      "metadata": {
        "id": "3pI8IVluzBfc"
      },
      "source": [
        "cluster1 = df[df['cluster']== 0]\n",
        "cluster1.describe()"
      ],
      "execution_count": null,
      "outputs": []
    },
    {
      "cell_type": "code",
      "source": [
        "cluster1"
      ],
      "metadata": {
        "id": "4mJ1Y_lGIsxT"
      },
      "execution_count": null,
      "outputs": []
    },
    {
      "cell_type": "code",
      "metadata": {
        "id": "-rPDGFlUzbBQ"
      },
      "source": [
        "cluster2 = df[df['cluster']== 1]\n",
        "cluster2.describe()"
      ],
      "execution_count": null,
      "outputs": []
    },
    {
      "cell_type": "code",
      "source": [
        "cluster2"
      ],
      "metadata": {
        "id": "JlsPTu4EJSVR"
      },
      "execution_count": null,
      "outputs": []
    },
    {
      "cell_type": "code",
      "source": [
        "cluster3 = df[df['cluster']== 2]\n",
        "cluster3.describe()"
      ],
      "metadata": {
        "id": "1P79C5upPP61"
      },
      "execution_count": null,
      "outputs": []
    },
    {
      "cell_type": "code",
      "source": [
        "cluster3"
      ],
      "metadata": {
        "id": "AwIa4l2_PUyJ"
      },
      "execution_count": null,
      "outputs": []
    },
    {
      "cell_type": "code",
      "source": [
        "#Initiating PCA to reduce dimentions aka features to 3\n",
        "from sklearn.decomposition import PCA\n",
        "pca = PCA(n_components=3)\n",
        "pca.fit(df)\n",
        "PCA_ds = pd.DataFrame(pca.transform(df), columns=([\"col1\",\"col2\",\"col3\"]))\n",
        "PCA_ds.describe().T"
      ],
      "metadata": {
        "id": "dYtw0G5zHbRi"
      },
      "execution_count": null,
      "outputs": []
    },
    {
      "cell_type": "code",
      "source": [
        "#A 3D Projection Of Data In The Reduced Dimension\n",
        "x =PCA_ds[\"col1\"]\n",
        "y =PCA_ds[\"col2\"]\n",
        "z =PCA_ds[\"col3\"]\n",
        "#To plot\n",
        "fig = plt.figure(figsize=(10,8))\n",
        "ax = fig.add_subplot(111, projection=\"3d\")\n",
        "ax.scatter(x,y,z, c=\"maroon\", marker=\"o\" )\n",
        "ax.set_title(\"A 3D Projection Of Data In The Reduced Dimension\")\n",
        "plt.show()"
      ],
      "metadata": {
        "id": "4xEciFzUH935"
      },
      "execution_count": null,
      "outputs": []
    },
    {
      "cell_type": "code",
      "source": [
        "import plotly.express as px\n",
        "fig = px.scatter(df, x=\"SMS\", y=\"Phone\", color=\"cluster\",\n",
        "                 size='Age', hover_data=['Age'])\n",
        "fig.show()"
      ],
      "metadata": {
        "id": "QCdP_-h7lPrH"
      },
      "execution_count": null,
      "outputs": []
    },
    {
      "cell_type": "markdown",
      "metadata": {
        "id": "0aYt7eFya5GK"
      },
      "source": [
        "Evaluation"
      ]
    },
    {
      "cell_type": "code",
      "metadata": {
        "id": "CjXppI9ga37e"
      },
      "source": [
        "sse = clustering_model.inertia_\n",
        "sse"
      ],
      "execution_count": null,
      "outputs": []
    }
  ]
}